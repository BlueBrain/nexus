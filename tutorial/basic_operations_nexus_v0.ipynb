{
 "cells": [
  {
   "cell_type": "markdown",
   "metadata": {},
   "source": [
    "<a href=https://docs.google.com/uc?id=1xbyIyDFmryHaZ4HhVNDBeoMCZGyXCf10 target=\"_blank\"><img src=https://docs.google.com/uc?id=1xbyIyDFmryHaZ4HhVNDBeoMCZGyXCf10 \n",
    "width=\"150\" border=\"10\" /></a>"
   ]
  },
  {
   "cell_type": "markdown",
   "metadata": {},
   "source": [
    "# Basic operations using Nexus v0"
   ]
  },
  {
   "cell_type": "markdown",
   "metadata": {},
   "source": [
    "##  General introduction\n",
    "\n",
    "At the core of Blue Brain Nexus lies a knowledge graph [(What is a knowledge graph?)](https://hackernoon.com/wtf-is-a-knowledge-graph-a16603a1a25f). The Nexus KnowledgeGraph operates on **4 types** of resources: **Organizations, Domains, Schemas** and **Instances**, nested as described in the diagram below:\n",
    "\n",
    "<a href= target=https://bbp-nexus.epfl.ch/staging/docs/kg/assets/api-reference/resources.png \"_blank\"><img src=https://bbp-nexus.epfl.ch/staging/docs/kg/assets/api-reference/resources.png \n",
    "width=\"500\" border=\"10\" /></a>\n",
    "\n",
    "\n",
    "The Nexus KnowledgeGraph exposes a RESTful interface over HTTP(S). The generally adopted transport format is **JSON-LD**. All resources in the system generally follow the very same lifecycle (see diagram below). Changes to the data (creation, updates, state changes) are recorded into the system as **revisions**.\n",
    "\n",
    "<a href= target=https://bbp-nexus.epfl.ch/staging/docs/kg/assets/api-reference/resource-lifecycle.png \"_blank\"><img src=https://bbp-nexus.epfl.ch/staging/docs/kg/assets/api-reference/resource-lifecycle.png \n",
    "width=\"500\" border=\"10\" /></a>\n",
    "\n",
    "[Nexus API documentation](https://bbp-nexus.epfl.ch/dev/docs/kg/index.html)"
   ]
  },
  {
   "cell_type": "markdown",
   "metadata": {},
   "source": [
    "## Objective of this notebook\n",
    "\n",
    "This Jupyter notebook will guide you through some basic operations to create and manage resources with Nexus. This includes:\n",
    "\n",
    "* Creating a domain on Nexus\n",
    "* Creating a schema\n",
    "* Publishing a schema\n",
    "* Creating a data instance\n",
    "* Updating the data instance\n",
    "* Attaching a file to that data instance \n",
    "* Filtering data instances by their type\n",
    "\n",
    "These operations will be performed in the **sandbox** organization of the staging environment of Blue Brain Nexus."
   ]
  },
  {
   "cell_type": "markdown",
   "metadata": {},
   "source": [
    "## The Nexus client Pyxus\n",
    "\n",
    "Nexus exposes a RESTful interface over HTTP(S). To faciliate API interactions, the Nexus client [Pyxus](https://github.com/HumanBrainProject/pyxus) can be used to access and manage resources in Nexus.\n",
    "\n",
    "**Execute the following code to install Pyxus and other dependencies:**"
   ]
  },
  {
   "cell_type": "code",
   "execution_count": null,
   "metadata": {},
   "outputs": [],
   "source": [
    "!pip install git+https://github.com/HumanBrainProject/pyxus@v0.1.3 pyyaml requests"
   ]
  },
  {
   "cell_type": "markdown",
   "metadata": {},
   "source": [
    "**Import relevant Pyxus classes and required Python modules:**"
   ]
  },
  {
   "cell_type": "code",
   "execution_count": null,
   "metadata": {},
   "outputs": [],
   "source": [
    "import requests\n",
    "import yaml\n",
    "\n",
    "from pyxus.client import NexusClient\n",
    "from pyxus.resources.entity import Domain\n",
    "from pyxus.resources.entity import Schema\n",
    "from pyxus.resources.entity import Instance"
   ]
  },
  {
   "cell_type": "markdown",
   "metadata": {},
   "source": [
    "#### Set up your Nexus client by executing the code below:"
   ]
  },
  {
   "cell_type": "code",
   "execution_count": null,
   "metadata": {},
   "outputs": [],
   "source": [
    "client = NexusClient(scheme=\"https\", \n",
    "                     host=\"bbp-nexus.epfl.ch\", \n",
    "                     prefix=\"staging/v0\", \n",
    "                     alternative_namespace=\"https://bbp-nexus.epfl.ch\")"
   ]
  },
  {
   "cell_type": "markdown",
   "metadata": {},
   "source": [
    "## Basic operations\n",
    "\n",
    "### Create a custom domain on Nexus using Pyxus\n",
    "\n",
    "Inside an organization on Nexus, you can create your own custom domains. To set up your own domain in the sandbox organization, input a custom name and description for your domain below and execute the cell:"
   ]
  },
  {
   "cell_type": "code",
   "execution_count": null,
   "metadata": {},
   "outputs": [],
   "source": [
    "domain_name = \"Your domain name\"\n",
    "domain_description = \"Your domain description\""
   ]
  },
  {
   "cell_type": "markdown",
   "metadata": {},
   "source": [
    "With the provided domain name and description, you can **create your domain** on Nexus:"
   ]
  },
  {
   "cell_type": "code",
   "execution_count": null,
   "metadata": {},
   "outputs": [],
   "source": [
    "organization_name = \"sandbox\"\n",
    "your_domain = Domain.create_new(organization_name, domain_name, domain_description) \n",
    "client.domains.create(your_domain)"
   ]
  },
  {
   "cell_type": "markdown",
   "metadata": {},
   "source": [
    "You can access your domain identifier through the link provided after executing the code below:"
   ]
  },
  {
   "cell_type": "code",
   "execution_count": null,
   "metadata": {},
   "outputs": [],
   "source": [
    "your_domain = client.domains.read(organization_name, domain_name)\n",
    "print(\"Your domain identifer is {}\".format(your_domain.data[\"@id\"]))"
   ]
  },
  {
   "cell_type": "markdown",
   "metadata": {},
   "source": [
    "You can also check out your newly created domain in the [Nexus Explorer](https://bbp-nexus.epfl.ch/staging/explorer/)"
   ]
  },
  {
   "cell_type": "markdown",
   "metadata": {},
   "source": [
    "### Create and publish a schema"
   ]
  },
  {
   "cell_type": "markdown",
   "metadata": {},
   "source": [
    "Now that you have created your custom domain in Nexus, you can create a **schema** (written in the so-called [Shapes Constraint Language](https://www.w3.org/TR/shacl/) or SHACL) inside that domain - e.g. a schema to describe a person with the properties given name, family name and e-mail address (note: you cannot 'delete' a schema once created)."
   ]
  },
  {
   "cell_type": "code",
   "execution_count": null,
   "metadata": {},
   "outputs": [],
   "source": [
    "example_person_schema = {\n",
    "    \"@context\": [\n",
    "        \"https://bbp-nexus.epfl.ch/staging/v0/contexts/nexus/core/schema/v0.2.0\"\n",
    "    ],\n",
    "    \"@type\": \"nxv:Schema\",\n",
    "    \"shapes\": {\n",
    "        \"@type\": \"sh:NodeShape\",\n",
    "        \"description\": \"schema.org person description.\",\n",
    "        \"nodeKind\": \"sh:BlankNodeOrIRI\",\n",
    "        \"targetClass\": \"schema:Person\",\n",
    "        \"property\": [\n",
    "        {\n",
    "            \"path\": \"schema:email\",\n",
    "            \"datatype\": \"xsd:string\",\n",
    "            \"name\": \"Email\",\n",
    "            \"pattern\": \"^[^@\\\\s]+@[^@\\\\s]+\\\\.[^@\\\\s]+$\"\n",
    "        },\n",
    "        {\n",
    "            \"datatype\": \"xsd:string\",\n",
    "            \"description\": \"Given name. In the U.S., the first name of a Person. This can be used along with familyName instead of the name property.\",\n",
    "            \"name\": \"givenName\",\n",
    "            \"path\": \"schema:givenName\",\n",
    "            \"minCount\": \"1\"\n",
    "        },\n",
    "        {\n",
    "            \"datatype\": \"xsd:string\",\n",
    "            \"description\": \"Family name. In the U.S., the last name of an Person. This can be used along with givenName instead of the name property.\",\n",
    "            \"name\": \"familyName\",\n",
    "            \"path\": \"schema:familyName\",\n",
    "            \"minCount\": \"1\"\n",
    "        }\n",
    "    ]\n",
    "  }\n",
    "}"
   ]
  },
  {
   "cell_type": "code",
   "execution_count": null,
   "metadata": {},
   "outputs": [],
   "source": [
    "schema_name = \"person\" # provide the name for the example schema\n",
    "schema_version = \"v0.1.0\" # provide the version for the example schema\n",
    "content = example_person_schema"
   ]
  },
  {
   "cell_type": "markdown",
   "metadata": {},
   "source": [
    "Run the following code to create the example_person_schema in Nexus:"
   ]
  },
  {
   "cell_type": "code",
   "execution_count": null,
   "metadata": {},
   "outputs": [],
   "source": [
    "schema = Schema.create_new(organization=organization_name, \n",
    "                           domain=domain_name, \n",
    "                           schema=schema_name,\n",
    "                           version=schema_version, \n",
    "                           content=content)\n",
    "client.schemas.create(schema)"
   ]
  },
  {
   "cell_type": "markdown",
   "metadata": {},
   "source": [
    "Access the schema identifier of the schema you have just created:"
   ]
  },
  {
   "cell_type": "code",
   "execution_count": null,
   "metadata": {},
   "outputs": [],
   "source": [
    "schema = client.schemas.read(organization=organization_name, \n",
    "                             domain=domain_name, \n",
    "                             schema=schema_name, \n",
    "                             version=schema_version)\n",
    "print(\"The schema identifier is {}\".format(schema.data[\"@id\"]))"
   ]
  },
  {
   "cell_type": "markdown",
   "metadata": {},
   "source": [
    "To be able to submit data against your schema, it has to be published. To publish your schema, run the following code:"
   ]
  },
  {
   "cell_type": "code",
   "execution_count": null,
   "metadata": {},
   "outputs": [],
   "source": [
    "client.schemas.publish(entity=schema,publish=True)"
   ]
  },
  {
   "cell_type": "markdown",
   "metadata": {},
   "source": [
    "Check out your newly created and published schema in [Nexus Explorer](https://bbp-nexus.epfl.ch/staging/explorer/)"
   ]
  },
  {
   "cell_type": "markdown",
   "metadata": {},
   "source": [
    "### Create a data instance against your schema"
   ]
  },
  {
   "cell_type": "markdown",
   "metadata": {},
   "source": [
    "Now that your schema is stored and published, we can validate data against the schema and store it in Nexus. "
   ]
  },
  {
   "cell_type": "code",
   "execution_count": null,
   "metadata": {},
   "outputs": [],
   "source": [
    "example_person_data = {\n",
    "    \"@context\": {\n",
    "        \"Person\": \"http://schema.org/Person\",\n",
    "        \"givenName\": \"http://schema.org/givenName\",\n",
    "        \"familyName\": \"http://schema.org/familyName\"\n",
    "    },\n",
    "    \"@type\": [\n",
    "        \"Person\"\n",
    "    ],\n",
    "    \"familyName\": \"Nexus\",\n",
    "    \"givenName\": \"Brian\"\n",
    "}"
   ]
  },
  {
   "cell_type": "code",
   "execution_count": null,
   "metadata": {},
   "outputs": [],
   "source": [
    "instance = Instance.create_new(organization=organization_name, \n",
    "                           domain=domain_name, \n",
    "                           schema=schema_name,\n",
    "                           version=schema_version, \n",
    "                           content=example_person_data)\n",
    "client.instances.create(instance)"
   ]
  },
  {
   "cell_type": "markdown",
   "metadata": {},
   "source": [
    "Check out your newly created data instance in [Nexus Explorer](https://bbp-nexus.epfl.ch/staging/explorer/)"
   ]
  },
  {
   "cell_type": "markdown",
   "metadata": {},
   "source": [
    "### Update your data instance\n",
    "\n",
    "After data has been stored in Nexus, it can be updated (e.g. if you want to provide a more detailed description such as an e-mail address or correct a typo)."
   ]
  },
  {
   "cell_type": "code",
   "execution_count": null,
   "metadata": {},
   "outputs": [],
   "source": [
    "updated_example_person_data = {\n",
    "    \"@context\": {\n",
    "        \"Person\": \"http://schema.org/Person\",\n",
    "        \"givenName\": \"http://schema.org/givenName\",\n",
    "        \"familyName\": \"http://schema.org/familyName\",\n",
    "        \"email\": \"http://schema.org/email\"\n",
    "    },\n",
    "    \"@type\": [\n",
    "        \"Person\"\n",
    "    ],\n",
    "    \"familyName\": \"Nexus\",\n",
    "    \"givenName\": \"Brian\",\n",
    "    \"email\": \"brian@nexus.ch\"\n",
    "}"
   ]
  },
  {
   "cell_type": "markdown",
   "metadata": {},
   "source": [
    "Using the updated payload, you can update your instance on Nexus:"
   ]
  },
  {
   "cell_type": "code",
   "execution_count": null,
   "metadata": {},
   "outputs": [],
   "source": [
    "instance.data = updated_example_person_data\n",
    "client.instances.update(entity=instance)"
   ]
  },
  {
   "cell_type": "markdown",
   "metadata": {},
   "source": [
    "Check out your updated data instance in [Nexus Explorer](https://bbp-nexus.epfl.ch/staging/explorer/) (note how the version number has changed)."
   ]
  },
  {
   "cell_type": "markdown",
   "metadata": {},
   "source": [
    "### Attach a file to your data instance\n",
    "\n",
    "Nexus allows one to store metadata as well as file attachments. To attach a binary file to your data instance, execute the following code:"
   ]
  },
  {
   "cell_type": "code",
   "execution_count": null,
   "metadata": {},
   "outputs": [],
   "source": [
    "example_person_data_id = instance.data[\"@id\"]\n",
    "example_person_data_rev = instance.get_revision()"
   ]
  },
  {
   "cell_type": "code",
   "execution_count": null,
   "metadata": {},
   "outputs": [],
   "source": [
    "filepath = \"https://docs.google.com/uc?id=1V8-hGYNMVqlCIrvlTKTxseMfZSGEqbHl\" # provide the address of the file you want to attach here\n",
    "r = requests.get(filepath)\n",
    "file =  r.content\n",
    "\n",
    "url = \"{}/attachment?rev={}\".format(example_person_data_id, example_person_data_rev)\n",
    "file_attachment = {'file': file}\n",
    "response = requests.put(url, files=file_attachment)"
   ]
  },
  {
   "cell_type": "markdown",
   "metadata": {},
   "source": [
    "Check out your data instance with the attachment using [Nexus Explorer](https://bbp-nexus.epfl.ch/staging/explorer/)"
   ]
  },
  {
   "cell_type": "markdown",
   "metadata": {},
   "source": [
    "### Query Nexus to get instances of type schema:Person\n",
    "\n",
    "Now that you have created your schema and validated a data instance against it, you can query Nexus to retrieve data. "
   ]
  },
  {
   "cell_type": "code",
   "execution_count": null,
   "metadata": {},
   "outputs": [],
   "source": [
    "query_filter = {\n",
    "  \"@context\": \"https://bbp-nexus.epfl.ch/staging/v0/contexts/neurosciencegraph/core/data/v0.1.2\",\n",
    "  \"filter\": {\n",
    "    \"op\": \"eq\",\n",
    "    \"path\": \"rdf:type\",\n",
    "    \"value\": \"schema:Person\"\n",
    "  }\n",
    "}"
   ]
  },
  {
   "cell_type": "markdown",
   "metadata": {},
   "source": [
    "Execute the code below to see how many instances of type schema:Person are in Nexus:"
   ]
  },
  {
   "cell_type": "code",
   "execution_count": null,
   "metadata": {},
   "outputs": [],
   "source": [
    "response = requests.post(\"https://bbp-nexus.epfl.ch/staging/v0/queries\", \n",
    "                         json=query_filter, \n",
    "                         allow_redirects=False)\n",
    "get_response = requests.get(response.headers[\"Location\"])\n",
    "print(\"There are a total of {} instances of type schema:Person in Nexus\".format(yaml.load(get_response.text)[\"total\"]))"
   ]
  },
  {
   "cell_type": "markdown",
   "metadata": {},
   "source": [
    "**THE END**"
   ]
  }
 ],
 "metadata": {
  "kernelspec": {
   "display_name": "Python 3",
   "language": "python",
   "name": "python3"
  },
  "language_info": {
   "codemirror_mode": {
    "name": "ipython",
    "version": 3
   },
   "file_extension": ".py",
   "mimetype": "text/x-python",
   "name": "python",
   "nbconvert_exporter": "python",
   "pygments_lexer": "ipython3",
   "version": "3.6.1"
  }
 },
 "nbformat": 4,
 "nbformat_minor": 2
}
