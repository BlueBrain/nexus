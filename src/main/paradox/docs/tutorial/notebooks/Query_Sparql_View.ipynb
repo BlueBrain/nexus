{
 "cells": [
  {
   "cell_type": "markdown",
   "metadata": {},
   "source": [
    "## How to query a Nexus SPARQL View ?\n",
    "\n",
    "This tutorial demonstrates how to:\n",
    "* run a query against an existing Nexus Sparql View\n",
    "* convert the sparql result to a pandas data frame\n"
   ]
  },
  {
   "cell_type": "code",
   "execution_count": null,
   "metadata": {},
   "outputs": [],
   "source": [
    "#Let install sparqlwrapper which a python wrapper around sparql client\n",
    "!pip install git+https://github.com/RDFLib/sparqlwrapper"
   ]
  },
  {
   "cell_type": "code",
   "execution_count": null,
   "metadata": {},
   "outputs": [],
   "source": [
    "import pandas as pd\n",
    "from itertools import repeat\n",
    "import concurrent.futures\n",
    "import json\n",
    "import csv\n",
    "import requests\n",
    "import time\n",
    "from urllib.parse import urlencode, quote_plus\n",
    "from collections import OrderedDict\n",
    "import pandas as pd\n",
    "from io import StringIO\n",
    "from functools import reduce\n",
    "from SPARQLWrapper import SPARQLWrapper, XML, N3, TURTLE, JSON, POST, POSTDIRECTLY, CSV"
   ]
  },
  {
   "cell_type": "code",
   "execution_count": null,
   "metadata": {},
   "outputs": [],
   "source": [
    "#Configure a sparql client for a Nexus Sparql View\n",
    "\n",
    "token =\"eyJhbGciOiJSUzI1NiIsInR5cCIgOiAiSldUIiwia2lkIiA6ICJONS1CU0ZxZG5NS3Y4SWtKUkg1R3E0LVA2c1RWQUxwU0EydGNQeEpWM1NBIn0.eyJqdGkiOiI3ZjhlZTJiMC1mOWQ5LTQ4ZmEtOWI4MC04ZDQ3YTQ1MzMzMzIiLCJleHAiOjE1NDg3NTM2NzYsIm5iZiI6MCwiaWF0IjoxNTQ4MTQ4ODc2LCJpc3MiOiJodHRwczovL2JicHRlYW0uZXBmbC5jaC9hdXRoL3JlYWxtcy9CQlAiLCJhdWQiOiJiYnAtbmV4dXMtcHJvZHVjdGlvbiIsInN1YiI6ImY6OWQ0NmRkZDYtMTM0ZS00NGQ2LWFhNzQtYmRmMDBmNDhkZmNlOnN5IiwidHlwIjoiQmVhcmVyIiwiYXpwIjoiYmJwLW5leHVzLXByb2R1Y3Rpb24iLCJhdXRoX3RpbWUiOjE1NDgxNDg4NzYsInNlc3Npb25fc3RhdGUiOiJmYjgxNmI3Mi1iZTVkLTQ4MzEtYmI3My03YWY1NjNjOWNkMmMiLCJhY3IiOiIxIiwiYWxsb3dlZC1vcmlnaW5zIjpbIi8qIl0sInJlc291cmNlX2FjY2VzcyI6e30sInNjb3BlIjoib3BlbmlkIG5leHVzIiwibmFtZSI6Ik1vaGFtZXRoIEZyYW7Dp29pcyBTeSIsInByZWZlcnJlZF91c2VybmFtZSI6InN5IiwiZ2l2ZW5fbmFtZSI6Ik1vaGFtZXRoIEZyYW7Dp29pcyIsImZhbWlseV9uYW1lIjoiU3kiLCJlbWFpbCI6Im1vaGFtZXRoLnN5QGVwZmwuY2gifQ.lquFwadTt3aK0U92zkH4So2vu5Ip36g2jnirX2NWYuTDbV_iCQ9RkCWIvLwUzGM9C0MXaSIWhcD0jRZFyIdyFFtrEN3nKE-lXGObt1aFZSnoikF8xOuo9WqcPYfycjePeD3tOeRmSGBIGGbzxceZGQ5VFLya3Vpd2olI6GS-XmNCPYK0IzjekqiR7m4F4RxcoZkh1_Fh8qamuftV-G2H-l9T6aGcss_sIeH9pu1dd4bkJoq9xveVP3c69aWlaoGSHX_YU7DuzmTnx8u1iJ8hjztg1rD858yQBy4qjJO743awZfRKE0WJL8o-pIzGnzM2_5BvMJwYZ14Is-dnYcqb-Q\"\n",
    "ns = \"https://bbp.epfl.ch/nexus/v1/\"\n",
    "endpoint = ns+\"views/testamld2019/movielens2/graph/sparql/\"\n",
    "headers = {}\n",
    "headers[\"Authorization\"] =\"Bearer {}\".format(token)\n",
    "headers[\"Content-Type\"] =\"application/sparql-query\"\n",
    "\n",
    "sparql_client = SPARQLWrapper(endpoint)\n",
    "sparql_client.addCustomHttpHeader(\"Content-Type\", \"application/sparql-query\")\n",
    "sparql_client.addCustomHttpHeader(\"Authorization\",\"Bearer {}\".format(token))\n",
    "sparql_client.setMethod(POST)\n",
    "sparql_client.setReturnFormat(JSON)\n",
    "sparql_client.setRequestMethod(POSTDIRECTLY)"
   ]
  },
  {
   "cell_type": "code",
   "execution_count": null,
   "metadata": {},
   "outputs": [],
   "source": [
    "# Convert SPARQL results into a Pandas data frame\n",
    "def sparql2dataframe(json_sparql_results):\n",
    "    cols = json_sparql_results['head']['vars']\n",
    "    out = []\n",
    "    for row in json_sparql_results['results']['bindings']:\n",
    "        item = []\n",
    "        for c in cols:\n",
    "            item.append(row.get(c, {}).get('value'))\n",
    "        out.append(item)\n",
    "    return pd.DataFrame(out, columns=cols)\n",
    "\n",
    "#Use a client and send a query\n",
    "def query(query, sparql_client):\n",
    "    sparql_client.setQuery(query)\n",
    "    result_object = sparql_client.query()\n",
    "    return result_object._convertJSON()\n",
    "   \n",
    "    "
   ]
  },
  {
   "cell_type": "code",
   "execution_count": null,
   "metadata": {},
   "outputs": [],
   "source": [
    "# Configure and run query\n",
    "\n",
    "querystring = \"\"\"\n",
    "PREFIX vocab: <$NEXUS-URL/vocabs/tutorialnexus/$PROJECTLABEL/>\n",
    "PREFIX nxv: <https://bluebrain.github.io/nexus/vocabulary/>\n",
    "\n",
    "Select ?userId ?movieId  ?rating\n",
    " WHERE  {\n",
    "    ?ratingNode a vocab:Rating.\n",
    "    ?ratingNode vocab:movieId ?movieId.\n",
    "    ?ratingNode vocab:rating ?rating.\n",
    "    ?ratingNode vocab:userId ?userId.\n",
    "\n",
    "}\n",
    "ORDER BY ASC(?userId)\n",
    "LIMIT 250\"\"\"\n",
    "\n",
    "\n",
    "\n",
    "results = query(querystring,sparql_client)\n",
    "\n",
    "# Convert to a dataframe\n",
    "\n",
    "df = sparql2dataframe(results)\n",
    "df.head()\n",
    "\n",
    "\n",
    "\n",
    "\n",
    "\n"
   ]
  },
  {
   "cell_type": "code",
   "execution_count": null,
   "metadata": {},
   "outputs": [],
   "source": []
  }
 ],
 "metadata": {
  "kernelspec": {
   "display_name": "Python 3",
   "language": "python",
   "name": "python3"
  },
  "language_info": {
   "codemirror_mode": {
    "name": "ipython",
    "version": 3
   },
   "file_extension": ".py",
   "mimetype": "text/x-python",
   "name": "python",
   "nbconvert_exporter": "python",
   "pygments_lexer": "ipython3",
   "version": "3.6.5"
  }
 },
 "nbformat": 4,
 "nbformat_minor": 2
}
