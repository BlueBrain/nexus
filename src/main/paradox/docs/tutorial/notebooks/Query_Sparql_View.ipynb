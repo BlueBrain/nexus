{
 "cells": [
  {
   "cell_type": "markdown",
   "metadata": {},
   "source": [
    "## How to query a Nexus SPARQL View ?\n",
    "\n",
    "This tutorial demonstrates how to:\n",
    "* run a query against an existing Nexus Sparql View\n",
    "* convert the sparql result to a pandas data frame\n"
   ]
  },
  {
   "cell_type": "code",
   "execution_count": null,
   "metadata": {},
   "outputs": [],
   "source": [
    "#Let install sparqlwrapper which a python wrapper around sparql client\n",
    "!pip install git+https://github.com/RDFLib/sparqlwrapper"
   ]
  },
  {
   "cell_type": "code",
   "execution_count": null,
   "metadata": {},
   "outputs": [],
   "source": [
    "import pandas as pd\n",
    "from itertools import repeat\n",
    "import concurrent.futures\n",
    "import json\n",
    "import csv\n",
    "import requests\n",
    "import time\n",
    "from urllib.parse import urlencode, quote_plus\n",
    "from collections import OrderedDict\n",
    "import pandas as pd\n",
    "from io import StringIO\n",
    "from functools import reduce\n",
    "from SPARQLWrapper import SPARQLWrapper, XML, N3, TURTLE, JSON, POST, POSTDIRECTLY, CSV"
   ]
  },
  {
   "cell_type": "code",
   "execution_count": null,
   "metadata": {},
   "outputs": [],
   "source": [
    "#Configure a sparql client for a Nexus Sparql View\n",
    "\n",
    "token =\"Put Your Token Here\"\n",
    "ns = \"$NEXUS-URL\"\n",
    "endpoint = ns+\"views/tutorialnexus/$PROJECTLABEL/graph/sparql/\"\n",
    "headers = {}\n",
    "headers[\"Authorization\"] =\"Bearer {}\".format(token)\n",
    "headers[\"Content-Type\"] =\"application/sparql-query\"\n",
    "\n",
    "sparql_client = SPARQLWrapper(endpoint)\n",
    "sparql_client.addCustomHttpHeader(\"Content-Type\", \"application/sparql-query\")\n",
    "sparql_client.addCustomHttpHeader(\"Authorization\",\"Bearer {}\".format(token))\n",
    "sparql_client.setMethod(POST)\n",
    "sparql_client.setReturnFormat(JSON)\n",
    "sparql_client.setRequestMethod(POSTDIRECTLY)"
   ]
  },
  {
   "cell_type": "code",
   "execution_count": null,
   "metadata": {},
   "outputs": [],
   "source": [
    "# Convert SPARQL results into a Pandas data frame\n",
    "def sparql2dataframe(json_sparql_results):\n",
    "    cols = json_sparql_results['head']['vars']\n",
    "    out = []\n",
    "    for row in json_sparql_results['results']['bindings']:\n",
    "        item = []\n",
    "        for c in cols:\n",
    "            item.append(row.get(c, {}).get('value'))\n",
    "        out.append(item)\n",
    "    return pd.DataFrame(out, columns=cols)\n",
    "\n",
    "#Use a client and send a query\n",
    "def query(query, sparql_client):\n",
    "    sparql_client.setQuery(query)\n",
    "    result_object = sparql_client.query()\n",
    "    return result_object._convertJSON()\n",
    "   \n",
    "    "
   ]
  },
  {
   "cell_type": "code",
   "execution_count": null,
   "metadata": {},
   "outputs": [],
   "source": [
    "# Configure and run query\n",
    "\n",
    "querystring = \"\"\"\n",
    "PREFIX vocab: <$NEXUS-URL/vocabs/tutorialnexus/$PROJECTLABEL/>\n",
    "PREFIX nxv: <https://bluebrain.github.io/nexus/vocabulary/>\n",
    "\n",
    "Select ?userId ?movieId  ?rating\n",
    " WHERE  {\n",
    "    ?ratingNode a vocab:Rating.\n",
    "    ?ratingNode vocab:movieId ?movieId.\n",
    "    ?ratingNode vocab:rating ?rating.\n",
    "    ?ratingNode vocab:userId ?userId.\n",
    "\n",
    "}\n",
    "ORDER BY ASC(?userId)\n",
    "LIMIT 250\"\"\"\n",
    "\n",
    "\n",
    "\n",
    "results = query(querystring,sparql_client)\n",
    "\n",
    "# Convert to a dataframe\n",
    "\n",
    "df = sparql2dataframe(results)\n",
    "df.head()\n",
    "\n",
    "\n",
    "\n",
    "\n",
    "\n"
   ]
  },
  {
   "cell_type": "code",
   "execution_count": null,
   "metadata": {},
   "outputs": [],
   "source": []
  }
 ],
 "metadata": {
  "kernelspec": {
   "display_name": "Python 3",
   "language": "python",
   "name": "python3"
  },
  "language_info": {
   "codemirror_mode": {
    "name": "ipython",
    "version": 3
   },
   "file_extension": ".py",
   "mimetype": "text/x-python",
   "name": "python",
   "nbconvert_exporter": "python",
   "pygments_lexer": "ipython3",
   "version": "3.6.5"
  }
 },
 "nbformat": 4,
 "nbformat_minor": 2
}
